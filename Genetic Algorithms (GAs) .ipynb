{
 "cells": [
  {
   "cell_type": "markdown",
   "metadata": {},
   "source": [
    "#Genetic Algorithms (GAs)"
   ]
  },
  {
   "cell_type": "markdown",
   "metadata": {},
   "source": [
    "Genetic\tAlgorithms  (GAs) are\tthe most widely use form of evolutionary algorithms. They are more complex to implement than the local search heuristics but more popular due to their inspiration in natural evolution. Their performance can be improved by applying local search to their individuals or embeding knowledge of the problem into the search tj the individuals, or enbeding knowledge of the problem into the search operators. However, we will implement a simple GAs and hop that it will have better performance than the simpler local search heuristics."
   ]
  },
  {
   "cell_type": "markdown",
   "metadata": {},
   "source": [
    "##Algorithms work as follow\n",
    "GA(*Fitness, Fitness_theshold, p, r, m*)\n",
    ">*Fitness: A function that aasigns an evaluation score, given a hypothesis.*<br>\n",
    ">*Fitness_theshold: A theshold specifying the termination criterion.*<br>\n",
    ">*p: The number of hypothesiss to be included in the population*<br>\n",
    ">*r: The function of population to be replaced by Crossover at each step*<br>\n",
    ">*m: The mutation rate.* <br>\n",
    "\n",
    "+ *Initailise population: P* $\\leftarrow$ *p* hypothesises at random\n",
    "+ *Evaluate:* For each h in P, compute *Fitness(h)*\n",
    "+ While *[*$\\underset{h}{\\text{max}}$ *Fitness(h)] < Fitness_theshold* do\n",
    "\n",
    ">*Create a new generation*, $P_s$:<br>\n",
    "1.*Select*: Probabilistically select *(1-r)p* members of P to add to $P_s$. The probability Pr($h_i$) of selecting hypothesis $h_i$ from *P* is given by <br>\n",
    "$Pr(h_i)=\\dfrac{Fitness(h_i)}{\\sum_{j=1}^{p}Fitness(h_i)}$<br>\n",
    "2.*Crossover*: Probabiscally select $\\dfrac{r \\cdot p}{2}$ pairs of hypothesises from *P*, according to Pr($h_i$) given above. For each pair, < $h_1, h_2$ >, produce two offspring by applying the Crossover operator. Add all off spring to $P_s$.<br>\n",
    "3.*Mutate*: Choose *m* percent of $P_s$ with uniform probability. For each, invert one randomly selected bit in its representation.<br>\n",
    "4.*Update*: $P \\leftarrow P_s$.<br>\n",
    "5.*Evaluate*: for each h in P, compute *Fitness($h$)*<br>\n",
    "\n",
    "+ Return the hypothesis from P that has the highest fitness.\n",
    "\n",
    "*(Tom M. Mitchell, 1997)*"
   ]
  },
  {
   "cell_type": "code",
   "execution_count": 2,
   "metadata": {
    "collapsed": false
   },
   "outputs": [
    {
     "data": {
      "text/html": [
       "<div>\n",
       "<table border=\"1\" class=\"dataframe\">\n",
       "  <thead>\n",
       "    <tr style=\"text-align: right;\">\n",
       "      <th></th>\n",
       "      <th>no.</th>\n",
       "      <th>value</th>\n",
       "      <th>weight</th>\n",
       "    </tr>\n",
       "  </thead>\n",
       "  <tbody>\n",
       "    <tr>\n",
       "      <th>0</th>\n",
       "      <td>1</td>\n",
       "      <td>835</td>\n",
       "      <td>735</td>\n",
       "    </tr>\n",
       "    <tr>\n",
       "      <th>1</th>\n",
       "      <td>2</td>\n",
       "      <td>1670</td>\n",
       "      <td>1470</td>\n",
       "    </tr>\n",
       "    <tr>\n",
       "      <th>2</th>\n",
       "      <td>3</td>\n",
       "      <td>3340</td>\n",
       "      <td>2940</td>\n",
       "    </tr>\n",
       "    <tr>\n",
       "      <th>3</th>\n",
       "      <td>4</td>\n",
       "      <td>1087</td>\n",
       "      <td>987</td>\n",
       "    </tr>\n",
       "    <tr>\n",
       "      <th>4</th>\n",
       "      <td>5</td>\n",
       "      <td>1087</td>\n",
       "      <td>987</td>\n",
       "    </tr>\n",
       "  </tbody>\n",
       "</table>\n",
       "</div>"
      ],
      "text/plain": [
       "   no.  value  weight\n",
       "0    1    835     735\n",
       "1    2   1670    1470\n",
       "2    3   3340    2940\n",
       "3    4   1087     987\n",
       "4    5   1087     987"
      ]
     },
     "execution_count": 2,
     "metadata": {},
     "output_type": "execute_result"
    }
   ],
   "source": [
    "import urllib2 \n",
    "import numpy as np\n",
    "import pandas as pd\n",
    "import random\n",
    "import copy\n",
    "\n",
    "input_data = []\n",
    "url = \"http://www.cs.stir.ac.uk/~goc/source/hard200.txt\"\n",
    "data = urllib2.urlopen(url) # it's a file like object and works just like a file\n",
    "for line in data: # files are iterable\n",
    "    input_data.append(map(int,line.split()))\n",
    "\n",
    "total_items = input_data.pop(0)[0]\n",
    "max_weight = input_data.pop()[0]\n",
    "df = pd.DataFrame(input_data, columns=['no.', 'value', 'weight'])\n",
    "df.head()"
   ]
  },
  {
   "cell_type": "code",
   "execution_count": 2,
   "metadata": {
    "collapsed": true
   },
   "outputs": [],
   "source": [
    "#function to generate a binary representation of the items selected. \n",
    "def binrep(n,r):\n",
    "    return \"{0:0{1}b}\".format(n, r)\n",
    "#random.randint(1, 2**instance_number)\n",
    "weights = np.array(df[\"weight\"])   \n",
    "values = np.array(df[\"value\"])"
   ]
  },
  {
   "cell_type": "code",
   "execution_count": 11,
   "metadata": {
    "collapsed": false
   },
   "outputs": [],
   "source": [
    "#initiate popoulation size and values\n",
    "pop_size = 50\n",
    "genes_selected = []\n",
    "while pop_size>0:\n",
    "    sample_selected = np.array(map(int,binrep(random.randint(1, 2**total_items), total_items)))\n",
    "    genes_selected.append(sample_selected)\n",
    "    pop_size -= 1\n",
    "\n",
    "#print genes_selected"
   ]
  },
  {
   "cell_type": "code",
   "execution_count": 12,
   "metadata": {
    "collapsed": false
   },
   "outputs": [],
   "source": [
    "#evaluate population\n",
    "arr_total_weights = np.dot(genes_selected, weights)\n",
    "arr_total_values = np.dot(genes_selected, values)\n",
    "for idx in xrange(0,arr_total_values.size):\n",
    "    if arr_total_weights[idx]>max_weight:\n",
    "        arr_total_values[idx]=0\n",
    "\n",
    "#print arr_total_values"
   ]
  },
  {
   "cell_type": "code",
   "execution_count": 13,
   "metadata": {
    "collapsed": false
   },
   "outputs": [],
   "source": [
    "def tournament_selection(arr_total_values):\n",
    "    #make a deep cpoy of arr_total_value\n",
    "    tmp_total = copy.deepcopy(arr_total_values).tolist()\n",
    "    #randomly select individual from population pool which value is not zeo\n",
    "    ind1 = tmp_total.pop(random.randrange(len(tmp_total)))\n",
    "    while ind1==0:\n",
    "        ind1 = tmp_total.pop(random.randrange(len(tmp_total)))\n",
    "    ind2 = tmp_total.pop(random.randrange(len(tmp_total)))\n",
    "    while ind2==0:\n",
    "        ind2 = tmp_total.pop(random.randrange(len(tmp_total)))\n",
    "    #return better individual value\n",
    "    if ind1>ind2:\n",
    "        return ind1\n",
    "    else:\n",
    "        return ind2\n",
    "\n",
    "#print tournament_selection(arr_total_values)"
   ]
  },
  {
   "cell_type": "code",
   "execution_count": 14,
   "metadata": {
    "collapsed": true
   },
   "outputs": [],
   "source": [
    "# function for crossover \n",
    "def crossover(mom,dad):\n",
    "    cut = random.randint(0,len(mom)) \n",
    "    return np.append(mom[0:cut], dad[cut:]), np.append(dad[0:cut], mom[cut:])"
   ]
  },
  {
   "cell_type": "code",
   "execution_count": null,
   "metadata": {
    "collapsed": true
   },
   "outputs": [],
   "source": [
    "# function for mutation offspting\n",
    "def mutate(offspring):\n",
    "    idx = random.randint(0,len(offspring)-1)\n",
    "    offspring[idx] = int(not offspring1[idx]) \n",
    "    return offspring"
   ]
  },
  {
   "cell_type": "code",
   "execution_count": null,
   "metadata": {
    "collapsed": true
   },
   "outputs": [],
   "source": [
    "#evaluate offspring\n",
    "#return fitness of offspring (offspring_value)\n",
    "def eval_offspring(offspring):\n",
    "    offspring_weight = np.dot(offspring, weights)\n",
    "    offspring_value = np.dot(offspring, values)\n",
    "    if offspring_weight>max_weight:\n",
    "        offspring_value = 0\n",
    "    return offspring"
   ]
  },
  {
   "cell_type": "code",
   "execution_count": 15,
   "metadata": {
    "collapsed": false
   },
   "outputs": [
    {
     "name": "stdout",
     "output_type": "stream",
     "text": [
      "132708\n"
     ]
    }
   ],
   "source": [
    "#run genetic algorithm (GA)\n",
    "generation = 500\n",
    "lst_best_values = []\n",
    "while generation>0:\n",
    "    #select mom and dad from values population pool\n",
    "    mom = tournament_selection(arr_total_values)\n",
    "    dad = tournament_selection(arr_total_values)\n",
    "    #select mom and dad genes that give good value fitness\n",
    "    idx_mom = random.choice(np.where(arr_total_values==mom)[0])\n",
    "    mom_genes = genes_selected[idx_mom]\n",
    "    idx_dad = random.choice(np.where(arr_total_values==dad)[0])\n",
    "    dad_genes = genes_selected[idx_dad]\n",
    "    #perform crossover\n",
    "    child1, child2 = crossover(mom_genes, dad_genes)\n",
    "    #mutate offsprings\n",
    "    child1 = mutate(child1)\n",
    "    child2 = mutate(child2)\n",
    "    #evaluate offsprings\n",
    "    child1_value = eval_offspring(child1)\n",
    "    child2_value = eval_offspring(child2)\n",
    "    #replace worst\n",
    "    inds = arr_total_values.argsort()\n",
    "    inds = inds[::-1]\n",
    "    arr_total_values = arr_total_values[inds]\n",
    "    arr_total_weights = arr_total_weights[inds]\n",
    "    tmp_genes = []\n",
    "    for i in inds:\n",
    "        tmp_genes.append(genes_selected[i])\n",
    "    genes_selected = tmp_genes\n",
    "    arr_total_values = np.append(arr_total_values[0:-2],[child1_value, child2_value])\n",
    "    arr_total_weights = np.append(arr_total_weights[0:-2],[child1_weight, child2_weight])\n",
    "    np.append(genes_selected[0:-2],[child1, child2])\n",
    "    #keep record of best value found so far\n",
    "    lst_best_values.append(arr_total_values[0])\n",
    "    \n",
    "    generation -= 1\n",
    "print lst_best_values[-1]"
   ]
  },
  {
   "cell_type": "code",
   "execution_count": 16,
   "metadata": {
    "collapsed": false
   },
   "outputs": [
    {
     "data": {
      "text/plain": [
       "<function matplotlib.pyplot.show>"
      ]
     },
     "execution_count": 16,
     "metadata": {},
     "output_type": "execute_result"
    },
    {
     "data": {
      "image/png": "[encoded data removed]",
      "text/plain": [
       "<matplotlib.figure.Figure at 0xba13320>"
      ]
     },
     "metadata": {},
     "output_type": "display_data"
    }
   ],
   "source": [
    "#best population values found so far\n",
    "%matplotlib inline\n",
    "import matplotlib.pyplot as plt\n",
    "plt.plot(list(xrange(0,len(lst_best_values))), lst_best_values)\n",
    "plt.show"
   ]
  },
  {
   "cell_type": "code",
   "execution_count": 17,
   "metadata": {
    "collapsed": false
   },
   "outputs": [
    {
     "data": {
      "text/plain": [
       "<function matplotlib.pyplot.show>"
      ]
     },
     "execution_count": 17,
     "metadata": {},
     "output_type": "execute_result"
    },
    {
     "data": {
      "image/png": "[encoded data removed]",
      "text/plain": [
       "<matplotlib.figure.Figure at 0xbac38d0>"
      ]
     },
     "metadata": {},
     "output_type": "display_data"
    }
   ],
   "source": [
    "#last generation\n",
    "plt.plot(list(xrange(0,len(arr_total_values))), arr_total_values, 'ro')\n",
    "plt.show"
   ]
  }
 ],
 "metadata": {
  "kernelspec": {
   "display_name": "Python 2",
   "language": "python",
   "name": "python2"
  },
  "language_info": {
   "codemirror_mode": {
    "name": "ipython",
    "version": 2
   },
   "file_extension": ".py",
   "mimetype": "text/x-python",
   "name": "python",
   "nbconvert_exporter": "python",
   "pygments_lexer": "ipython2",
   "version": "2.7.10"
  }
 },
 "nbformat": 4,
 "nbformat_minor": 0
}
